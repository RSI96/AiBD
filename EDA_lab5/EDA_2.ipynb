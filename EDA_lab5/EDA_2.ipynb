{
 "cells": [
  {
   "cell_type": "code",
   "execution_count": 1,
   "metadata": {},
   "outputs": [
    {
     "name": "stdout",
     "output_type": "stream",
     "text": [
      "       Unnamed: 0           id    Datetime   TMAX   TMIN\n",
      "0               0  MX000017004  1955-04-01  310.0  150.0\n",
      "1               1  MX000017004  1955-04-02  310.0  150.0\n",
      "2               2  MX000017004  1955-04-03  310.0  160.0\n",
      "3               3  MX000017004  1955-04-04  320.0  150.0\n",
      "4               4  MX000017004  1955-04-05  330.0  160.0\n",
      "...           ...          ...         ...    ...    ...\n",
      "12125       12125  MX000017004  2011-03-05  332.0  148.0\n",
      "12126       12126  MX000017004  2011-03-10  320.0  127.0\n",
      "12127       12127  MX000017004  2011-03-26  332.0  162.0\n",
      "12128       12128  MX000017004  2011-03-31  365.0  170.0\n",
      "12129       12129  MX000017004  2011-04-02  350.0  168.0\n",
      "\n",
      "[12130 rows x 5 columns]\n"
     ]
    }
   ],
   "source": [
    "import pandas as pd\n",
    "import numpy as np\n",
    "import sys\n",
    "\n",
    "df = pd.read_csv('Analized Data.csv', sep=',');\n",
    "print(df)"
   ]
  },
  {
   "cell_type": "code",
   "execution_count": 2,
   "metadata": {},
   "outputs": [
    {
     "name": "stdout",
     "output_type": "stream",
     "text": [
      "         Unnamed: 0          TMAX          TMIN\n",
      "count  12130.000000  11274.000000  11995.000000\n",
      "mean    6064.500000    271.502217    145.283535\n",
      "std     3501.773717     31.225344     23.444385\n",
      "min        0.000000    110.000000      0.000000\n",
      "25%     3032.250000    250.000000    130.000000\n",
      "50%     6064.500000    270.000000    150.000000\n",
      "75%     9096.750000    290.000000    160.000000\n",
      "max    12129.000000    385.000000    290.000000\n"
     ]
    }
   ],
   "source": [
    "des = df.describe()\n",
    "print(des)"
   ]
  },
  {
   "cell_type": "code",
   "execution_count": 42,
   "metadata": {},
   "outputs": [
    {
     "name": "stdout",
     "output_type": "stream",
     "text": [
      "       Unnamed: 0           id    Datetime   TMAX  TMIN\n",
      "11721       11721  MX000017004  2003-11-29  299.0  60.0\n"
     ]
    }
   ],
   "source": [
    "df2 = df.query('(TMAX - TMIN) > 238')\n",
    "print(df2)"
   ]
  },
  {
   "cell_type": "code",
   "execution_count": 41,
   "metadata": {},
   "outputs": [
    {
     "name": "stdout",
     "output_type": "stream",
     "text": [
      "       Unnamed: 0           id    Datetime   TMAX  TMIN\n",
      "11567       11567  MX000017004  2002-11-19  281.0  43.0\n",
      "11738       11738  MX000017004  2004-02-03  286.0  55.0\n"
     ]
    }
   ],
   "source": [
    "df3 = df.query('TMAX > 251.5 and TMAX < 291.5')\n",
    "print(df3)"
   ]
  },
  {
   "cell_type": "code",
   "execution_count": 37,
   "metadata": {},
   "outputs": [
    {
     "name": "stdout",
     "output_type": "stream",
     "text": [
      "       Unnamed: 0           id    Datetime   TMAX   TMIN\n",
      "9181         9181  MX000017004  1990-06-14  374.0  138.0\n",
      "11608       11608  MX000017004  2003-03-08  377.0  146.0\n"
     ]
    }
   ],
   "source": [
    "df4 = df.query('TMIN > 130 and TMIN < 160')\n",
    "print(df4)"
   ]
  },
  {
   "cell_type": "code",
   "execution_count": null,
   "metadata": {},
   "outputs": [],
   "source": []
  }
 ],
 "metadata": {
  "kernelspec": {
   "display_name": "Python 3",
   "language": "python",
   "name": "python3"
  },
  "language_info": {
   "codemirror_mode": {
    "name": "ipython",
    "version": 3
   },
   "file_extension": ".py",
   "mimetype": "text/x-python",
   "name": "python",
   "nbconvert_exporter": "python",
   "pygments_lexer": "ipython3",
   "version": "3.7.4"
  }
 },
 "nbformat": 4,
 "nbformat_minor": 2
}
